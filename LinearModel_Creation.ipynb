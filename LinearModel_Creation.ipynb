Create a Linear Model
Linear model using scikit-learn
We'll practice using a scikit-learn model for linear regression. You will do something similar in this week's assignment (but with a logistic regression model).

sklearn.linear_model.LinearRegression()

First, import LinearRegression, which is a Python 'class'.

# Import the module 'LinearRegression' from sklearn
from sklearn.linear_model import LinearRegression
Next, use the class to create an object of type LinearRegression.

# Create an object of type LinearRegression
model = LinearRegression()
model
LinearRegression(copy_X=True, fit_intercept=True, n_jobs=None, normalize=False)
Generate some data by importing a module 'load_data', which is implemented for you. The features in `X' are:

Age: (years)
Systolic_BP: Systolic blood pressure (mmHg)
Diastolic_BP: Diastolic blood pressure (mmHg)
Cholesterol: (mg/DL)
The labels in y indicate whether the patient has a disease (diabetic retinopathy).

y = 1 : patient has retinopathy.
y = 0 : patient does not have retinopathy.
# Import the load_data function from the utils module
from utils import load_data
# Generate features and labels using the imported function
X, y = load_data(100)
Explore the data by viewing the features and the labels

# View the features
X.head()
Age	Systolic_BP	Diastolic_BP	Cholesterol
0	77.196340	78.784208	87.026569	82.760275
1	63.529850	105.171676	83.396113	80.923284
2	69.003986	117.582259	91.161966	92.915422
3	82.638210	94.131208	69.470423	95.766098
4	78.346286	105.385186	87.250583	120.868124
# Plot a histogram of the Age feature
X['Age'].hist();

# Plot a histogram of the systolic blood pressure feature
X['Systolic_BP'].hist();

# Plot a histogram of the diastolic blood pressure feature
X['Diastolic_BP'].hist();

# Plot a histogram of the cholesterol feature
X['Cholesterol'].hist();

Also take a look at the labels

# View a few values of the labels
y.head()
0    0.0
1    0.0
2    1.0
3    1.0
4    1.0
Name: y, dtype: float64
# Plot a histogram of the labels
y.hist();

Fit the LinearRegression using the features in X and the labels in y. To "fit" the model is another way of saying that we are training the model on the data.

# Fit the linear regression model
model.fit(X, y)
model
LinearRegression(copy_X=True, fit_intercept=True, n_jobs=None, normalize=False)
View the coefficients of the trained model.
The coefficients are the 'weights' or 𝛽s associated with each feature
You'll use the coefficients for making predictions.
𝑦̂ =𝛽1𝑥1+𝛽2𝑥2+...𝛽𝑁𝑥𝑁
# View the coefficients of the model
model.coef_
array([0.00975155, 0.00835816, 0.00836864, 0.00971064])
